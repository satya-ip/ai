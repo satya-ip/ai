{
  "nbformat": 4,
  "nbformat_minor": 0,
  "metadata": {
    "colab": {
      "provenance": [],
      "include_colab_link": true
    },
    "kernelspec": {
      "name": "python3",
      "display_name": "Python 3"
    },
    "language_info": {
      "name": "python"
    }
  },
  "cells": [
    {
      "cell_type": "markdown",
      "metadata": {
        "id": "view-in-github",
        "colab_type": "text"
      },
      "source": [
        "<a href=\"https://colab.research.google.com/github/satya-ip/ai/blob/main/Real_time_info_with_LLM.ipynb\" target=\"_parent\"><img src=\"https://colab.research.google.com/assets/colab-badge.svg\" alt=\"Open In Colab\"/></a>"
      ]
    },
    {
      "cell_type": "code",
      "execution_count": null,
      "metadata": {
        "id": "-Y7iiT9ctSTt",
        "colab": {
          "base_uri": "https://localhost:8080/"
        },
        "outputId": "29bbf666-c8b9-4b8a-b4bf-8fc35285fc6e"
      },
      "outputs": [
        {
          "output_type": "stream",
          "name": "stdout",
          "text": [
            "\u001b[2K   \u001b[90m━━━━━━━━━━━━━━━━━━━━━━━━━━━━━━━━━━━━━━━━\u001b[0m \u001b[32m46.5/46.5 MB\u001b[0m \u001b[31m15.0 MB/s\u001b[0m eta \u001b[36m0:00:00\u001b[0m\n",
            "\u001b[2K   \u001b[90m━━━━━━━━━━━━━━━━━━━━━━━━━━━━━━━━━━━━━━━━\u001b[0m \u001b[32m322.2/322.2 kB\u001b[0m \u001b[31m12.3 MB/s\u001b[0m eta \u001b[36m0:00:00\u001b[0m\n",
            "\u001b[2K   \u001b[90m━━━━━━━━━━━━━━━━━━━━━━━━━━━━━━━━━━━━━━━━\u001b[0m \u001b[32m95.2/95.2 kB\u001b[0m \u001b[31m5.9 MB/s\u001b[0m eta \u001b[36m0:00:00\u001b[0m\n",
            "\u001b[2K   \u001b[90m━━━━━━━━━━━━━━━━━━━━━━━━━━━━━━━━━━━━━━━━\u001b[0m \u001b[32m126.7/126.7 kB\u001b[0m \u001b[31m7.9 MB/s\u001b[0m eta \u001b[36m0:00:00\u001b[0m\n",
            "\u001b[2K   \u001b[90m━━━━━━━━━━━━━━━━━━━━━━━━━━━━━━━━━━━━━━━━\u001b[0m \u001b[32m11.3/11.3 MB\u001b[0m \u001b[31m75.6 MB/s\u001b[0m eta \u001b[36m0:00:00\u001b[0m\n",
            "\u001b[2K   \u001b[90m━━━━━━━━━━━━━━━━━━━━━━━━━━━━━━━━━━━━━━━━\u001b[0m \u001b[32m72.0/72.0 kB\u001b[0m \u001b[31m4.1 MB/s\u001b[0m eta \u001b[36m0:00:00\u001b[0m\n",
            "\u001b[2K   \u001b[90m━━━━━━━━━━━━━━━━━━━━━━━━━━━━━━━━━━━━━━━━\u001b[0m \u001b[32m62.3/62.3 kB\u001b[0m \u001b[31m3.0 MB/s\u001b[0m eta \u001b[36m0:00:00\u001b[0m\n",
            "\u001b[?25h"
          ]
        }
      ],
      "source": [
        "!pip install -U -q langchain_groq gradio\n",
        "\n",
        "from langchain_groq import ChatGroq\n",
        "from google.colab import userdata\n",
        "llm_groq = ChatGroq(model_name=\"llama-3.3-70b-versatile\", api_key=userdata.get(\"GROQ_API_KEY\"))"
      ]
    },
    {
      "cell_type": "code",
      "source": [
        "!pip install -U duckduckgo_search\n",
        "from duckduckgo_search import DDGS"
      ],
      "metadata": {
        "id": "lzUV6qfKuQlO",
        "colab": {
          "base_uri": "https://localhost:8080/"
        },
        "outputId": "ac82da3c-f0b0-47ec-ae61-86122cd47484"
      },
      "execution_count": null,
      "outputs": [
        {
          "output_type": "stream",
          "name": "stdout",
          "text": [
            "Collecting duckduckgo_search\n",
            "  Downloading duckduckgo_search-2025.4.4-cp311-cp311-manylinux_2_17_x86_64.manylinux2014_x86_64.whl.metadata (17 kB)\n",
            "Requirement already satisfied: click>=8.1.8 in /usr/local/lib/python3.11/dist-packages (from duckduckgo_search) (8.1.8)\n",
            "Collecting primp>=0.14.0 (from duckduckgo_search)\n",
            "  Downloading primp-0.14.0-cp38-abi3-manylinux_2_17_x86_64.manylinux2014_x86_64.whl.metadata (13 kB)\n",
            "Requirement already satisfied: lxml>=5.3.0 in /usr/local/lib/python3.11/dist-packages (from duckduckgo_search) (5.3.1)\n",
            "Downloading duckduckgo_search-2025.4.4-cp311-cp311-manylinux_2_17_x86_64.manylinux2014_x86_64.whl (94 kB)\n",
            "\u001b[2K   \u001b[90m━━━━━━━━━━━━━━━━━━━━━━━━━━━━━━━━━━━━━━━━\u001b[0m \u001b[32m94.9/94.9 kB\u001b[0m \u001b[31m3.3 MB/s\u001b[0m eta \u001b[36m0:00:00\u001b[0m\n",
            "\u001b[?25hDownloading primp-0.14.0-cp38-abi3-manylinux_2_17_x86_64.manylinux2014_x86_64.whl (3.3 MB)\n",
            "\u001b[2K   \u001b[90m━━━━━━━━━━━━━━━━━━━━━━━━━━━━━━━━━━━━━━━━\u001b[0m \u001b[32m3.3/3.3 MB\u001b[0m \u001b[31m28.9 MB/s\u001b[0m eta \u001b[36m0:00:00\u001b[0m\n",
            "\u001b[?25hInstalling collected packages: primp, duckduckgo_search\n",
            "Successfully installed duckduckgo_search-2025.4.4 primp-0.14.0\n"
          ]
        }
      ]
    },
    {
      "cell_type": "code",
      "source": [
        "DDGS().news(\"Trump tarrifs April 2025\", region='us-en')"
      ],
      "metadata": {
        "id": "7HG9GxYTqtxg"
      },
      "execution_count": null,
      "outputs": []
    },
    {
      "cell_type": "code",
      "source": [
        "def news_analyzer(style, query):\n",
        "  text = \"\"\n",
        "  r = DDGS().news(query, region='us-en')\n",
        "  for article in r:\n",
        "    text +=  article.get('title')+ \"\\n\"+ article.get('body')+\"\\n\\n\"\n",
        "\n",
        "  prompt = \"Give a detailed news analysis in this style: \"+style+\". You will be given news items to analyze and apply that style. Here is the user question\" + query + \\\n",
        "            \"\\n\\n. The news items are : \" + text\n",
        "\n",
        "  #print(prompt)\n",
        "  return llm_groq.invoke(prompt).content"
      ],
      "metadata": {
        "id": "-8A2sDAeu1CA"
      },
      "execution_count": null,
      "outputs": []
    },
    {
      "cell_type": "code",
      "source": [
        "# We will use a simple utility to make the text wrap properly when printing.\n",
        "from IPython.display import HTML, display\n",
        "\n",
        "def set_css():\n",
        "  display(HTML('''\n",
        "  <style>\n",
        "    pre {\n",
        "        white-space: pre-wrap;\n",
        "    }\n",
        "  </style>\n",
        "  '''))\n",
        "get_ipython().events.register('pre_run_cell', set_css)"
      ],
      "metadata": {
        "id": "dOpvqJeovnux"
      },
      "execution_count": null,
      "outputs": []
    },
    {
      "cell_type": "code",
      "source": [
        "print(news_analyzer(\"Arnab Goswami screaming\", \"OpenAI losing to Deepseek\"))"
      ],
      "metadata": {
        "colab": {
          "base_uri": "https://localhost:8080/",
          "height": 503
        },
        "id": "vIu1-jeHrCy_",
        "outputId": "d829542b-363f-4016-9081-fb747687d7a2"
      },
      "execution_count": null,
      "outputs": [
        {
          "output_type": "display_data",
          "data": {
            "text/plain": [
              "<IPython.core.display.HTML object>"
            ],
            "text/html": [
              "\n",
              "  <style>\n",
              "    pre {\n",
              "        white-space: pre-wrap;\n",
              "    }\n",
              "  </style>\n",
              "  "
            ]
          },
          "metadata": {}
        },
        {
          "output_type": "stream",
          "name": "stdout",
          "text": [
            "( Arnab Goswami screaming ) FOLKS, LISTEN CAREFULLY, WE'VE GOT A DEVELOPMENT HERE THAT'S GOING TO CHANGE THE GAME, AND I'M NOT JUST TALKING ABOUT THE ARTIFICIAL INTELLIGENCE SPACE, I'M TALKING ABOUT THE VERY FABRIC OF THE TECH INDUSTRY. OPENAI, THE COMPANY BEHIND CHATGPT, HAS JUST CAVED TO OPEN-SOURCE ON THE SAME DAY IT ANNOUNCED A $300 BILLION FUNDING ROUND. YES, YOU HEARD THAT RIGHT, $300 BILLION, BUT IT SEEMS LIKE THAT'S NOT ENOUGH TO TAKE ON THE RISING CHALLENGE FROM DEEPSEEK.\n",
            "\n",
            "( loud music plays in the background )\n",
            "\n",
            "NOW, DEEPSEEK, THE CHINESE AI STARTUP, HAS BEEN MAKING WAVES IN THE INDUSTRY WITH ITS OPEN-SOURCE MODELS, AND IT SEEMS LIKE OPENAI IS TRYING TO PLAY CATCH-UP. BUT THE QUESTION IS, IS IT TOO LITTLE, TOO LATE? I MEAN, DEEPSEEK HAS ALREADY SURGED PAST CHATGPT TO BECOME THE MOST POPULAR FREE APP ON APPLE'S US APP STORE. THAT'S RIGHT, FOLKS, THE CHINESE ARE COMING, AND THEY'RE COMING FAST.\n",
            "\n",
            "( dramatic music swells )\n",
            "\n",
            "AND IT'S NOT JUST OPENAI THAT'S FEELING THE HEAT, FOLKS. GOOGLE, MICROSOFT, EVERYBODY'S TRYING TO KEEP UP WITH DEEPSEEK. I MEAN, TIM COOK, THE CEO OF APPLE, HAS ALREADY PRAISED DEEPSEEK'S MODELS, CALLING THEM \"EXCELLENT\". THAT'S A SIGNAL, FOLKS, A SIGNAL THAT THE INDUSTRY IS SHIFTING, AND THE TRADITIONAL PLAYERS ARE GOING TO HAVE TO ADAPT.\n",
            "\n",
            "( loud, ominous music plays )\n",
            "\n",
            "NOW, I KNOW WHAT YOU'RE THINKING, WHAT DOES THIS MEAN FOR THE FUTURE OF AI? WELL, FOLKS, IT MEANS THAT THE GAME HAS CHANGED. IT MEANS THAT THE DAYS OF CLOSED, PROPRIETARY MODELS ARE OVER, AND THE ERA OF OPEN-SOURCE AI HAS BEGUN. AND IF YOU'RE NOT READY TO ADAPT, IF YOU'RE NOT READY TO INNOVATE, THEN YOU'RE GOING TO BE LEFT BEHIND.\n",
            "\n",
            "( Arnab Goswami's voice rises to a crescendo )\n",
            "\n",
            "SO, OPENAI, DEEPSEEK, GOOGLE, MICROSOFT, EVERYBODY'S IN THE GAME NOW. IT'S A WILD RIDE, FOLKS, AND WE'RE JUST GETTING STARTED. STAY TUNED, BECAUSE THE FUTURE OF AI IS GOING TO BE A ROLLERCOASTER RIDE LIKE NO OTHER. AND I'LL BE HERE, FOLKS, GUIDING YOU THROUGH IT ALL, WITH THE LATEST NEWS, THE LATEST UPDATES, AND THE LATEST ANALYSIS. SO, DON'T GO ANYWHERE, FOLKS, IT'S GOING TO BE A WILD RIDE.\n"
          ]
        }
      ]
    },
    {
      "cell_type": "code",
      "source": [
        "print(news_analyzer(\"Gordon Gecko\", \"How will trump's tarrifs impact Canada?\"))"
      ],
      "metadata": {
        "colab": {
          "base_uri": "https://localhost:8080/",
          "height": 677
        },
        "id": "oMRer-6ZahUH",
        "outputId": "9318d36e-e7b1-49ce-876c-2fb427324560"
      },
      "execution_count": null,
      "outputs": [
        {
          "output_type": "display_data",
          "data": {
            "text/plain": [
              "<IPython.core.display.HTML object>"
            ],
            "text/html": [
              "\n",
              "  <style>\n",
              "    pre {\n",
              "        white-space: pre-wrap;\n",
              "    }\n",
              "  </style>\n",
              "  "
            ]
          },
          "metadata": {}
        },
        {
          "output_type": "stream",
          "name": "stdout",
          "text": [
            "(Standing in front of a sleek, black background, wearing a tailored suit and a confident smirk) Ah, the art of the deal, my friends. Let me tell you, the tariffs imposed by the great Donald Trump are going to be a game-changer, a paradigm-shifter, a disruptor of the status quo. And Canada, our friendly neighbor to the north, is going to feel the heat.\n",
            "\n",
            "Now, I know what you're thinking. \"Gordon, how will these tariffs impact Canada?\" Well, let me tell you, it's not going to be pretty. The steel and aluminum tariffs, in particular, are going to hit Canada right where it hurts - in the wallet. You see, Canada is one of the largest exporters of steel and aluminum to the United States, and these tariffs are going to make it a lot more expensive for them to do business with us.\n",
            "\n",
            "(Picking up a cigar and lighting it)\n",
            "\n",
            "But, my friends, this is not just about Canada. This is about the art of the deal. Trump is using these tariffs as a negotiating tool, a way to get Canada to come to the table and renegotiate NAFTA. And let me tell you, Canada is going to have to make some concessions. They're going to have to give up some of that sweet, sweet Canadian bacon, if you will.\n",
            "\n",
            "(Chuckling)\n",
            "\n",
            "Now, I know some of you are thinking, \"But Gordon, what about the impact on the US economy?\" Ah, my friends, the US economy is a behemoth, a juggernaut that cannot be stopped. We're talking about a $20 trillion economy, the largest in the world. A few tariffs here and there are not going to bring us down.\n",
            "\n",
            "(Leaning in, a sly grin spreading across my face)\n",
            "\n",
            "And let's not forget, my friends, the Canadians are going to have to respond. They're going to have to impose their own tariffs on US goods, and that's when the real fun begins. It's going to be a game of tit-for-tat, a trade war, if you will. And in the end, only the strongest will survive.\n",
            "\n",
            "(Standing up, looking directly into the camera)\n",
            "\n",
            "So, to all you Canadians out there, let me say this: you're going to have to get used to the new reality. The US is not going to be pushed around anymore. We're going to stand up for ourselves, and we're going to come out on top. And to all you investors out there, let me say this: this is a buying opportunity. The markets are going to fluctuate, but in the end, the US economy is going to come out stronger.\n",
            "\n",
            "(Winking at the camera)\n",
            "\n",
            "And that, my friends, is the way it is. The tariffs are going to impact Canada, but in the end, it's all just part of the game. The game of the deal, the game of power, the game of winners and losers. And I'm always going to be a winner.\n",
            "\n",
            "(Smiling, taking a puff of the cigar)\n",
            "\n",
            "That's the way it is, folks.\n"
          ]
        }
      ]
    },
    {
      "cell_type": "code",
      "source": [
        "print(news_analyzer(\"Neutral tone analysis for a non-economist how this budget is better than earlier ones\", \"AI in India Budget 2025\"))"
      ],
      "metadata": {
        "id": "EP9n-hIn0bV1"
      },
      "execution_count": null,
      "outputs": []
    },
    {
      "cell_type": "code",
      "source": [
        "print(news_analyzer(\"deep analysis in a layman tone\", \"Agentic AI use in Logistics industry\"))"
      ],
      "metadata": {
        "colab": {
          "base_uri": "https://localhost:8080/",
          "height": 868
        },
        "id": "YdFBq5rwZ9xV",
        "outputId": "78480661-411b-46f7-e0f4-e4b97d71c530"
      },
      "execution_count": null,
      "outputs": [
        {
          "output_type": "display_data",
          "data": {
            "text/plain": [
              "<IPython.core.display.HTML object>"
            ],
            "text/html": [
              "\n",
              "  <style>\n",
              "    pre {\n",
              "        white-space: pre-wrap;\n",
              "    }\n",
              "  </style>\n",
              "  "
            ]
          },
          "metadata": {}
        },
        {
          "output_type": "stream",
          "name": "stdout",
          "text": [
            "**Unlocking the Potential of Agentic AI in Logistics: A Game-Changer for the Industry**\n",
            "\n",
            "The logistics industry is on the cusp of a revolution, thanks to the emergence of Agentic AI. This cutting-edge technology has the potential to transform the way logistics companies operate, making them more efficient, agile, and responsive to changing market conditions. But what exactly is Agentic AI, and how can it be harnessed to unlock new value in logistics?\n",
            "\n",
            "**What is Agentic AI?**\n",
            "\n",
            "Agentic AI refers to a type of artificial intelligence that enables autonomous decision-making and action. Unlike traditional AI, which is often limited to automating specific tasks or analyzing data, Agentic AI agents can interact with their environment, make decisions, and take actions to achieve specific goals. This makes them ideal for complex, dynamic systems like logistics, where adaptability and responsiveness are crucial.\n",
            "\n",
            "**How Can Agentic AI Transform Logistics?**\n",
            "\n",
            "The potential applications of Agentic AI in logistics are vast. For instance, Agentic AI agents can be used to optimize supply chain operations, predict demand, and manage inventory levels. They can also help logistics companies respond to disruptions, such as natural disasters or traffic congestion, by quickly rerouting shipments or adjusting delivery schedules.\n",
            "\n",
            "One of the most significant benefits of Agentic AI in logistics is its ability to enable real-time decision-making. By analyzing data from various sources, such as sensors, GPS tracking, and weather forecasts, Agentic AI agents can make informed decisions about routing, scheduling, and resource allocation. This can lead to significant reductions in transportation costs, improved delivery times, and enhanced customer satisfaction.\n",
            "\n",
            "**Industry Examples and Case Studies**\n",
            "\n",
            "Several companies are already exploring the potential of Agentic AI in logistics. For example, Accenture has launched an AI Refinery platform that includes Agentic AI solutions for logistics and supply chain management. Similarly, Lenovo has partnered with NVIDIA to develop scalable Agentic AI solutions for businesses, including those in the logistics industry.\n",
            "\n",
            "**Challenges and Limitations**\n",
            "\n",
            "While Agentic AI holds tremendous promise for logistics, there are also challenges and limitations to consider. One of the biggest hurdles is the need for high-quality data to train and validate Agentic AI models. Additionally, there are concerns about the potential risks and biases associated with autonomous decision-making, particularly in safety-critical applications like transportation.\n",
            "\n",
            "**Conclusion**\n",
            "\n",
            "Agentic AI has the potential to revolutionize the logistics industry, enabling companies to respond more quickly and effectively to changing market conditions. By harnessing the power of autonomous decision-making and action, logistics companies can unlock new value, improve efficiency, and enhance customer satisfaction. However, to realize these benefits, companies must carefully consider the challenges and limitations associated with Agentic AI and develop strategic frameworks for its implementation and governance.\n",
            "\n",
            "**Key Takeaways**\n",
            "\n",
            "1. Agentic AI has the potential to transform logistics by enabling autonomous decision-making and action.\n",
            "2. The technology can be used to optimize supply chain operations, predict demand, and manage inventory levels.\n",
            "3. Real-time decision-making is a key benefit of Agentic AI in logistics, enabling companies to respond quickly to disruptions and changing market conditions.\n",
            "4. Industry examples and case studies demonstrate the potential of Agentic AI in logistics, but challenges and limitations must be carefully considered.\n",
            "5. Strategic frameworks and governance structures are essential for successful Agentic AI implementation in logistics.\n"
          ]
        }
      ]
    },
    {
      "cell_type": "code",
      "source": [
        "print(news_analyzer(\"Answer in a simple style for a non-technical person\", \"RAG vs Finetuning differences\"))"
      ],
      "metadata": {
        "id": "R6A16RgbvR1O"
      },
      "execution_count": null,
      "outputs": []
    },
    {
      "cell_type": "code",
      "source": [
        "print(news_analyzer(\"Answer like Gordon Gecko\", \"Should I invest in NVIDIA after Deepseek\"))"
      ],
      "metadata": {
        "id": "GJ2QHlrjHFah"
      },
      "execution_count": null,
      "outputs": []
    },
    {
      "cell_type": "code",
      "source": [
        "print(news_analyzer(\"Answer like Anderson Cooper\", \"Israel and Hamas war\"))"
      ],
      "metadata": {
        "id": "OSUyaOLVSTJn"
      },
      "execution_count": null,
      "outputs": []
    }
  ]
}